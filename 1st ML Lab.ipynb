{
 "cells": [
  {
   "cell_type": "code",
   "execution_count": 15,
   "id": "a26dd282-977b-4ec3-813b-aadf58e4754b",
   "metadata": {},
   "outputs": [
    {
     "name": "stdout",
     "output_type": "stream",
     "text": [
      "Output: 1\n"
     ]
    }
   ],
   "source": [
    "def mcp_neuron(inputs, weights, threshold):  # Corrected the typo here\n",
    "    weighted_sum = sum(i * w for i, w in zip(inputs, weights))\n",
    "    return 1 if weighted_sum >= threshold else 0\n",
    "\n",
    "inputs = [1, 1]\n",
    "weights = [1, 1]\n",
    "threshold = 2\n",
    "\n",
    "output = mcp_neuron(inputs, weights, threshold)\n",
    "print(\"Output:\", output)\n"
   ]
  },
  {
   "cell_type": "code",
   "execution_count": 19,
   "id": "fa646f97-4d64-48f8-9f58-17311ef48b32",
   "metadata": {},
   "outputs": [
    {
     "name": "stdout",
     "output_type": "stream",
     "text": [
      "Input: [0 0] => Output: 0 (Expected: 0)\n",
      "Input: [0 1] => Output: 1 (Expected: 1)\n",
      "Input: [1 0] => Output: 1 (Expected: 1)\n",
      "Input: [1 1] => Output: 1 (Expected: 1)\n"
     ]
    }
   ],
   "source": [
    "import numpy as np\n",
    "\n",
    "# McCulloch-Pitts Neuron function\n",
    "def mc_culloch_pitts(inputs, weights, threshold, bias=0):\n",
    "    # Compute the weighted sum\n",
    "    weighted_sum = np.dot(inputs, weights) + bias\n",
    "    # Apply the threshold function\n",
    "    return 1 if weighted_sum >= threshold else 0\n",
    "\n",
    "# Define the inputs for the OR gate\n",
    "X = np.array([[0, 0], [0, 1], [1, 0], [1, 1]])  # Inputs: (x1, x2)\n",
    "y = np.array([0, 1, 1, 1])  # Expected outputs for OR gate\n",
    "\n",
    "# Define the weights and threshold for the McCulloch-Pitts neuron\n",
    "weights = np.array([1, 1])  # Each input has weight 1\n",
    "threshold = 1  # Threshold for the OR gate\n",
    "bias = 0  # No bias\n",
    "\n",
    "# Test the McCulloch-Pitts neuron with the OR gate inputs\n",
    "for i in range(len(X)):\n",
    "    result = mc_culloch_pitts(X[i], weights, threshold, bias)\n",
    "    print(f\"Input: {X[i]} => Output: {result} (Expected: {y[i]})\")\n"
   ]
  },
  {
   "cell_type": "code",
   "execution_count": 21,
   "id": "7b4b0759-f207-4ab4-bbec-870ad79ecfce",
   "metadata": {},
   "outputs": [
    {
     "name": "stdout",
     "output_type": "stream",
     "text": [
      "XOR(0, 0) = 0\n",
      "XOR(0, 1) = 1\n",
      "XOR(1, 0) = 1\n",
      "XOR(1, 1) = 0\n"
     ]
    }
   ],
   "source": [
    "def mcp_neuron(inputs, weights, threshold):\n",
    "    weighted_sum = sum(i * w for i, w in zip(inputs, weights))\n",
    "    return 1 if weighted_sum >= threshold else 0\n",
    "\n",
    "def AND(x1, x2):\n",
    "    return mcp_neuron([x1, x2], [1, 1], 2)\n",
    "\n",
    "def OR(x1, x2):\n",
    "    return mcp_neuron([x1, x2], [1, 1], 1)\n",
    "\n",
    "def NOT(x):\n",
    "    return mcp_neuron([x], [-1], 0)\n",
    "\n",
    "def XOR(x1, x2):\n",
    "    \n",
    "    return AND(OR(x1, x2), NOT(AND(x1, x2)))\n",
    "\n",
    "\n",
    "for x1 in [0, 1]:\n",
    "    for x2 in [0, 1]:\n",
    "        print(f\"XOR({x1}, {x2}) = {XOR(x1, x2)}\")\n"
   ]
  },
  {
   "cell_type": "code",
   "execution_count": null,
   "id": "6c0a12d1-aa9e-4593-9aa3-97d82eed7445",
   "metadata": {},
   "outputs": [],
   "source": []
  }
 ],
 "metadata": {
  "kernelspec": {
   "display_name": "Python 3 (ipykernel)",
   "language": "python",
   "name": "python3"
  },
  "language_info": {
   "codemirror_mode": {
    "name": "ipython",
    "version": 3
   },
   "file_extension": ".py",
   "mimetype": "text/x-python",
   "name": "python",
   "nbconvert_exporter": "python",
   "pygments_lexer": "ipython3",
   "version": "3.12.7"
  }
 },
 "nbformat": 4,
 "nbformat_minor": 5
}
